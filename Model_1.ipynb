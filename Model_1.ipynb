{
 "cells": [
  {
   "cell_type": "code",
   "execution_count": 14,
   "metadata": {},
   "outputs": [],
   "source": [
    "import PIL\n",
    "from PIL import Image\n",
    "import matplotlib\n",
    "\n",
    "import numpy as np\n",
    "import pandas as pd\n",
    "\n",
    "import ast\n",
    "import re"
   ]
  },
  {
   "cell_type": "markdown",
   "metadata": {},
   "source": [
    "### **Load Images**"
   ]
  },
  {
   "cell_type": "markdown",
   "metadata": {},
   "source": [
    "Currently I saved all the images and their information in a csv, which means I don't need to open lots of images when I run my code, but it also means I have to decode the strings in the csv to get my images and labels"
   ]
  },
  {
   "cell_type": "code",
   "execution_count": 27,
   "metadata": {},
   "outputs": [],
   "source": [
    "train_data = pd.read_csv(\"C:\\\\Users\\\\KurtJi\\\\OneDrive - University of Illinois - Urbana\\\\Desktop\\\\Personal Projects\\\\data\\\\inaturalist\\\\data_csv\\\\train_dataset.csv\")"
   ]
  },
  {
   "cell_type": "code",
   "execution_count": 28,
   "metadata": {},
   "outputs": [
    {
     "name": "stdout",
     "output_type": "stream",
     "text": [
      "C:\\Users\\KurtJi\\OneDrive - University of Illinois - Urbana\\Desktop\\Personal Projects\\data\\inaturalist/train_mini/03198_Animalia_Chordata_Aves_Anseriformes_Anatidae_Anas_fulvigula/e706c2be-c819-4c81-bb34-d1f895eb7dec.jpg\n"
     ]
    }
   ],
   "source": [
    "print(train_data.iloc[0,0])"
   ]
  },
  {
   "cell_type": "code",
   "execution_count": 12,
   "metadata": {},
   "outputs": [
    {
     "ename": "SyntaxError",
     "evalue": "invalid syntax (<unknown>, line 1)",
     "output_type": "error",
     "traceback": [
      "Traceback \u001b[1;36m(most recent call last)\u001b[0m:\n",
      "\u001b[0m  File \u001b[0;32mc:\\Users\\KurtJi\\miniconda3\\lib\\site-packages\\IPython\\core\\interactiveshell.py:3505\u001b[0m in \u001b[0;35mrun_code\u001b[0m\n    exec(code_obj, self.user_global_ns, self.user_ns)\u001b[0m\n",
      "\u001b[0m  Cell \u001b[0;32mIn[12], line 1\u001b[0m\n    ast.literal_eval(train_data.iloc[0,0])\u001b[0m\n",
      "\u001b[0m  File \u001b[0;32mc:\\Users\\KurtJi\\miniconda3\\lib\\ast.py:62\u001b[0m in \u001b[0;35mliteral_eval\u001b[0m\n    node_or_string = parse(node_or_string, mode='eval')\u001b[0m\n",
      "\u001b[1;36m  File \u001b[1;32mc:\\Users\\KurtJi\\miniconda3\\lib\\ast.py:50\u001b[1;36m in \u001b[1;35mparse\u001b[1;36m\n\u001b[1;33m    return compile(source, filename, mode, flags,\u001b[1;36m\n",
      "\u001b[1;36m  File \u001b[1;32m<unknown>:1\u001b[1;36m\u001b[0m\n\u001b[1;33m    [[[ 65  63  24]\u001b[0m\n\u001b[1;37m            ^\u001b[0m\n\u001b[1;31mSyntaxError\u001b[0m\u001b[1;31m:\u001b[0m invalid syntax\n"
     ]
    }
   ],
   "source": [
    "ast.literal_eval(train_data.iloc[0,0])"
   ]
  },
  {
   "cell_type": "code",
   "execution_count": 23,
   "metadata": {},
   "outputs": [],
   "source": [
    "# Add spaces between numbers using regular expressions\n",
    "array_string_spaces = re.sub(r'\\s+(\\d+)', r'\\1', array_string_spaces)"
   ]
  },
  {
   "cell_type": "code",
   "execution_count": 24,
   "metadata": {},
   "outputs": [
    {
     "data": {
      "text/plain": [
       "'[[[65,63,24]\\n  [88,86,45]\\n  [147,146,98]\\n  ...\\n  [59,53,17]\\n  [83,77,41]\\n  [99,93,57]]\\n\\n [[67,65,26]\\n  [90,89,45]\\n  [150,149,101]\\n  ...\\n  [79,73,37]\\n  [75,69,33]\\n  [87,81,45]]\\n\\n [[54,51,10]\\n  [81,78,35]\\n  [146,144,96]\\n  ...\\n  [91,87,52]\\n  [63,59,24]\\n  [69,65,30]]\\n\\n ...\\n\\n [[223,223,221]\\n  [219,219,217]\\n  [213,213,211]\\n  ...\\n  [210,210,208]\\n  [211,211,209]\\n  [209,209,207]]\\n\\n [[225,226,221]\\n  [225,226,221]\\n  [227,228,223]\\n  ...\\n  [209,210,205]\\n  [211,212,207]\\n  [208,209,204]]\\n\\n [[201,202,197]\\n  [200,201,196]\\n  [198,199,194]\\n  ...\\n  [174,175,170]\\n  [177,178,173]\\n  [173,174,169]]]'"
      ]
     },
     "execution_count": 24,
     "metadata": {},
     "output_type": "execute_result"
    }
   ],
   "source": [
    "array_string_spaces"
   ]
  },
  {
   "cell_type": "markdown",
   "metadata": {},
   "source": [
    "## **Image Processing**"
   ]
  },
  {
   "cell_type": "markdown",
   "metadata": {},
   "source": [
    "### **Denoising using fft**"
   ]
  },
  {
   "cell_type": "code",
   "execution_count": 3,
   "metadata": {},
   "outputs": [
    {
     "ename": "UnidentifiedImageError",
     "evalue": "cannot identify image file 'C:\\\\Users\\\\KurtJi\\\\OneDrive - University of Illinois - Urbana\\\\Desktop\\\\Personal Projects\\\\Image\\\\data\\\\test_data\\\\0.npy'",
     "output_type": "error",
     "traceback": [
      "\u001b[1;31m---------------------------------------------------------------------------\u001b[0m",
      "\u001b[1;31mUnidentifiedImageError\u001b[0m                    Traceback (most recent call last)",
      "\u001b[1;32mc:\\Users\\KurtJi\\OneDrive - University of Illinois - Urbana\\Desktop\\Personal Projects\\Image\\Model_1.ipynb Cell 2\u001b[0m line \u001b[0;36m1\n\u001b[1;32m----> <a href='vscode-notebook-cell:/c%3A/Users/KurtJi/OneDrive%20-%20University%20of%20Illinois%20-%20Urbana/Desktop/Personal%20Projects/Image/Model_1.ipynb#W1sZmlsZQ%3D%3D?line=0'>1</a>\u001b[0m image \u001b[39m=\u001b[39m Image\u001b[39m.\u001b[39;49mopen(\u001b[39m\"\u001b[39;49m\u001b[39mC:\u001b[39;49m\u001b[39m\\\\\u001b[39;49;00m\u001b[39mUsers\u001b[39;49m\u001b[39m\\\\\u001b[39;49;00m\u001b[39mKurtJi\u001b[39;49m\u001b[39m\\\\\u001b[39;49;00m\u001b[39mOneDrive - University of Illinois - Urbana\u001b[39;49m\u001b[39m\\\\\u001b[39;49;00m\u001b[39mDesktop\u001b[39;49m\u001b[39m\\\\\u001b[39;49;00m\u001b[39mPersonal Projects\u001b[39;49m\u001b[39m\\\\\u001b[39;49;00m\u001b[39mImage\u001b[39;49m\u001b[39m\\\\\u001b[39;49;00m\u001b[39mdata\u001b[39;49m\u001b[39m\\\\\u001b[39;49;00m\u001b[39mtest_data\u001b[39;49m\u001b[39m\\\\\u001b[39;49;00m\u001b[39m0.npy\u001b[39;49m\u001b[39m\"\u001b[39;49m)\n",
      "File \u001b[1;32mc:\\Users\\KurtJi\\miniconda3\\lib\\site-packages\\PIL\\Image.py:3283\u001b[0m, in \u001b[0;36mopen\u001b[1;34m(fp, mode, formats)\u001b[0m\n\u001b[0;32m   3281\u001b[0m     warnings\u001b[39m.\u001b[39mwarn(message)\n\u001b[0;32m   3282\u001b[0m msg \u001b[39m=\u001b[39m \u001b[39m\"\u001b[39m\u001b[39mcannot identify image file \u001b[39m\u001b[39m%r\u001b[39;00m\u001b[39m\"\u001b[39m \u001b[39m%\u001b[39m (filename \u001b[39mif\u001b[39;00m filename \u001b[39melse\u001b[39;00m fp)\n\u001b[1;32m-> 3283\u001b[0m \u001b[39mraise\u001b[39;00m UnidentifiedImageError(msg)\n",
      "\u001b[1;31mUnidentifiedImageError\u001b[0m: cannot identify image file 'C:\\\\Users\\\\KurtJi\\\\OneDrive - University of Illinois - Urbana\\\\Desktop\\\\Personal Projects\\\\Image\\\\data\\\\test_data\\\\0.npy'"
     ]
    }
   ],
   "source": []
  },
  {
   "cell_type": "code",
   "execution_count": 23,
   "metadata": {},
   "outputs": [
    {
     "ename": "ValueError",
     "evalue": "Object arrays cannot be loaded when allow_pickle=False",
     "output_type": "error",
     "traceback": [
      "\u001b[1;31m---------------------------------------------------------------------------\u001b[0m",
      "\u001b[1;31mValueError\u001b[0m                                Traceback (most recent call last)",
      "\u001b[1;32mc:\\Users\\KurtJi\\OneDrive - University of Illinois - Urbana\\Desktop\\Personal Projects\\Image\\Model_1.ipynb Cell 3\u001b[0m line \u001b[0;36m1\n\u001b[1;32m----> <a href='vscode-notebook-cell:/c%3A/Users/KurtJi/OneDrive%20-%20University%20of%20Illinois%20-%20Urbana/Desktop/Personal%20Projects/Image/Model_1.ipynb#W2sZmlsZQ%3D%3D?line=0'>1</a>\u001b[0m x_0 \u001b[39m=\u001b[39m np\u001b[39m.\u001b[39;49mload(\u001b[39m\"\u001b[39;49m\u001b[39mC:\u001b[39;49m\u001b[39m\\\\\u001b[39;49;00m\u001b[39mUsers\u001b[39;49m\u001b[39m\\\\\u001b[39;49;00m\u001b[39mKurtJi\u001b[39;49m\u001b[39m\\\\\u001b[39;49;00m\u001b[39mOneDrive - University of Illinois - Urbana\u001b[39;49m\u001b[39m\\\\\u001b[39;49;00m\u001b[39mDesktop\u001b[39;49m\u001b[39m\\\\\u001b[39;49;00m\u001b[39mPersonal Projects\u001b[39;49m\u001b[39m\\\\\u001b[39;49;00m\u001b[39mImage\u001b[39;49m\u001b[39m\\\\\u001b[39;49;00m\u001b[39mdata\u001b[39;49m\u001b[39m\\\\\u001b[39;49;00m\u001b[39mtest_data\u001b[39;49m\u001b[39m\\\\\u001b[39;49;00m\u001b[39m0.npy\u001b[39;49m\u001b[39m\"\u001b[39;49m)\n",
      "File \u001b[1;32mc:\\Users\\KurtJi\\miniconda3\\lib\\site-packages\\numpy\\lib\\npyio.py:432\u001b[0m, in \u001b[0;36mload\u001b[1;34m(file, mmap_mode, allow_pickle, fix_imports, encoding, max_header_size)\u001b[0m\n\u001b[0;32m    429\u001b[0m         \u001b[39mreturn\u001b[39;00m \u001b[39mformat\u001b[39m\u001b[39m.\u001b[39mopen_memmap(file, mode\u001b[39m=\u001b[39mmmap_mode,\n\u001b[0;32m    430\u001b[0m                                   max_header_size\u001b[39m=\u001b[39mmax_header_size)\n\u001b[0;32m    431\u001b[0m     \u001b[39melse\u001b[39;00m:\n\u001b[1;32m--> 432\u001b[0m         \u001b[39mreturn\u001b[39;00m \u001b[39mformat\u001b[39;49m\u001b[39m.\u001b[39;49mread_array(fid, allow_pickle\u001b[39m=\u001b[39;49mallow_pickle,\n\u001b[0;32m    433\u001b[0m                                  pickle_kwargs\u001b[39m=\u001b[39;49mpickle_kwargs,\n\u001b[0;32m    434\u001b[0m                                  max_header_size\u001b[39m=\u001b[39;49mmax_header_size)\n\u001b[0;32m    435\u001b[0m \u001b[39melse\u001b[39;00m:\n\u001b[0;32m    436\u001b[0m     \u001b[39m# Try a pickle\u001b[39;00m\n\u001b[0;32m    437\u001b[0m     \u001b[39mif\u001b[39;00m \u001b[39mnot\u001b[39;00m allow_pickle:\n",
      "File \u001b[1;32mc:\\Users\\KurtJi\\miniconda3\\lib\\site-packages\\numpy\\lib\\format.py:787\u001b[0m, in \u001b[0;36mread_array\u001b[1;34m(fp, allow_pickle, pickle_kwargs, max_header_size)\u001b[0m\n\u001b[0;32m    784\u001b[0m \u001b[39mif\u001b[39;00m dtype\u001b[39m.\u001b[39mhasobject:\n\u001b[0;32m    785\u001b[0m     \u001b[39m# The array contained Python objects. We need to unpickle the data.\u001b[39;00m\n\u001b[0;32m    786\u001b[0m     \u001b[39mif\u001b[39;00m \u001b[39mnot\u001b[39;00m allow_pickle:\n\u001b[1;32m--> 787\u001b[0m         \u001b[39mraise\u001b[39;00m \u001b[39mValueError\u001b[39;00m(\u001b[39m\"\u001b[39m\u001b[39mObject arrays cannot be loaded when \u001b[39m\u001b[39m\"\u001b[39m\n\u001b[0;32m    788\u001b[0m                          \u001b[39m\"\u001b[39m\u001b[39mallow_pickle=False\u001b[39m\u001b[39m\"\u001b[39m)\n\u001b[0;32m    789\u001b[0m     \u001b[39mif\u001b[39;00m pickle_kwargs \u001b[39mis\u001b[39;00m \u001b[39mNone\u001b[39;00m:\n\u001b[0;32m    790\u001b[0m         pickle_kwargs \u001b[39m=\u001b[39m {}\n",
      "\u001b[1;31mValueError\u001b[0m: Object arrays cannot be loaded when allow_pickle=False"
     ]
    }
   ],
   "source": []
  },
  {
   "cell_type": "code",
   "execution_count": 24,
   "metadata": {},
   "outputs": [
    {
     "data": {
      "text/plain": [
       "array({'image': array([[[ 32,  44,  24],\n",
       "        [ 31,  43,  23],\n",
       "        [ 28,  40,  20],\n",
       "        ...,\n",
       "        [ 82,  99,  55],\n",
       "        [ 81,  98,  56],\n",
       "        [ 78,  96,  56]],\n",
       "\n",
       "       [[ 34,  46,  26],\n",
       "        [ 32,  44,  24],\n",
       "        [ 29,  41,  21],\n",
       "        ...,\n",
       "        [ 75,  91,  46],\n",
       "        [ 71,  88,  44],\n",
       "        [ 71,  87,  48]],\n",
       "\n",
       "       [[ 35,  47,  25],\n",
       "        [ 34,  46,  24],\n",
       "        [ 33,  45,  25],\n",
       "        ...,\n",
       "        [ 71,  87,  42],\n",
       "        [ 65,  80,  37],\n",
       "        [ 63,  78,  39]],\n",
       "\n",
       "       ...,\n",
       "\n",
       "       [[ 36,  11,   0],\n",
       "        [ 43,  15,   0],\n",
       "        [ 68,  32,   0],\n",
       "        ...,\n",
       "        [108, 106,  47],\n",
       "        [ 93,  91,  34],\n",
       "        [ 84,  81,  26]],\n",
       "\n",
       "       [[ 43,  18,   0],\n",
       "        [ 55,  28,   1],\n",
       "        [ 85,  49,  15],\n",
       "        ...,\n",
       "        [ 91,  88,  37],\n",
       "        [ 78,  74,  26],\n",
       "        [ 71,  67,  20]],\n",
       "\n",
       "       [[ 45,  20,   0],\n",
       "        [ 71,  44,  17],\n",
       "        [106,  70,  36],\n",
       "        ...,\n",
       "        [ 78,  74,  27],\n",
       "        [ 73,  69,  24],\n",
       "        [ 70,  65,  25]]], dtype=uint8), 'image_id': 2112671, 'image_date': '2019-08-03 16:34:31+00:00', 'image_loc': [45.57247, 8.27238], 'image_size': [375, 500], 'image_category': {'id': 2623, 'name': 'Omocestus rufipes', 'common_name': 'Woodland Grasshopper', 'supercategory': 'Insects', 'kingdom': 'Animalia', 'phylum': 'Arthropoda', 'class': 'Insecta', 'order': 'Orthoptera', 'family': 'Acrididae', 'genus': 'Omocestus', 'specific_epithet': 'rufipes', 'image_dir_name': '02623_Animalia_Arthropoda_Insecta_Orthoptera_Acrididae_Omocestus_rufipes'}},\n",
       "      dtype=object)"
      ]
     },
     "execution_count": 24,
     "metadata": {},
     "output_type": "execute_result"
    }
   ],
   "source": []
  },
  {
   "cell_type": "code",
   "execution_count": null,
   "metadata": {},
   "outputs": [],
   "source": []
  },
  {
   "cell_type": "code",
   "execution_count": null,
   "metadata": {},
   "outputs": [],
   "source": []
  },
  {
   "cell_type": "code",
   "execution_count": null,
   "metadata": {},
   "outputs": [],
   "source": []
  }
 ],
 "metadata": {
  "kernelspec": {
   "display_name": "base",
   "language": "python",
   "name": "python3"
  },
  "language_info": {
   "codemirror_mode": {
    "name": "ipython",
    "version": 3
   },
   "file_extension": ".py",
   "mimetype": "text/x-python",
   "name": "python",
   "nbconvert_exporter": "python",
   "pygments_lexer": "ipython3",
   "version": "3.9.12"
  }
 },
 "nbformat": 4,
 "nbformat_minor": 2
}
