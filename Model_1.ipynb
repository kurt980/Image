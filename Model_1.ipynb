{
 "cells": [
  {
   "cell_type": "code",
   "execution_count": 1,
   "metadata": {},
   "outputs": [],
   "source": [
    "import PIL\n",
    "from PIL import Image\n",
    "import matplotlib\n",
    "\n",
    "import numpy as np\n",
    "import pandas as pd\n",
    "\n",
    "import ast\n",
    "import re\n",
    "\n",
    "import json"
   ]
  },
  {
   "cell_type": "markdown",
   "metadata": {},
   "source": [
    "### **Load Images**"
   ]
  },
  {
   "cell_type": "markdown",
   "metadata": {},
   "source": [
    "Currently I saved all the images and their information in a csv, which means I don't need to open lots of images when I run my code, but it also means I have to decode the strings in the csv to get my images and labels"
   ]
  },
  {
   "cell_type": "code",
   "execution_count": 2,
   "metadata": {},
   "outputs": [],
   "source": [
    "train_df = pd.read_csv(\"C:\\\\Users\\\\KurtJi\\\\OneDrive - University of Illinois - Urbana\\\\Desktop\\\\Personal Projects\\\\data\\\\inaturalist\\\\data_csv\\\\train_dataset.csv\")\n",
    "val_df = pd.read_csv(\"C:\\\\Users\\\\KurtJi\\\\OneDrive - University of Illinois - Urbana\\\\Desktop\\\\Personal Projects\\\\data\\\\inaturalist\\\\data_csv\\\\val_dataset.csv\")\n",
    "test_df = pd.read_csv(\"C:\\\\Users\\\\KurtJi\\\\OneDrive - University of Illinois - Urbana\\\\Desktop\\\\Personal Projects\\\\data\\\\inaturalist\\\\data_csv\\\\test_dataset.csv\")"
   ]
  },
  {
   "cell_type": "code",
   "execution_count": 3,
   "metadata": {},
   "outputs": [
    {
     "data": {
      "text/plain": [
       "Index(['image_path', 'image_info', 'category_id'], dtype='object')"
      ]
     },
     "execution_count": 3,
     "metadata": {},
     "output_type": "execute_result"
    }
   ],
   "source": [
    "val_df.columns"
   ]
  },
  {
   "cell_type": "code",
   "execution_count": 4,
   "metadata": {},
   "outputs": [],
   "source": [
    "def get_image_label(cateid: int, categories, type: str):\n",
    "    # categories should look like this: test_ann['categories']\n",
    "    # print(categories)\n",
    "    cate_list = list(categories[0][0].keys())[1:]\n",
    "    # print(cate_list)\n",
    "    if type not in cate_list:\n",
    "        return \"please enter correct category level\"\n",
    "\n",
    "    return categories[0][cateid][type]"
   ]
  },
  {
   "cell_type": "code",
   "execution_count": 7,
   "metadata": {},
   "outputs": [],
   "source": [
    "# Define a function to load and preprocess images\n",
    "def load_and_preprocess_images(df, type:str, catetype: str):\n",
    "    image_data = []\n",
    "    image_info = []\n",
    "    labels = []\n",
    "\n",
    "    if type not in ['train', 'val', 'test']:\n",
    "        print(\"please enter correct data name!\")\n",
    "        return\n",
    "\n",
    "    # Validating data\n",
    "    with open(f\"C:\\\\Users\\\\KurtJi\\\\OneDrive - University of Illinois - Urbana\\\\Desktop\\\\Personal Projects\\\\data\\\\inaturalist\\\\{type}_mini_sample.json\", 'r') as file:\n",
    "        # Load JSON data from the file\n",
    "        ann = json.load(file)\n",
    "\n",
    "    for index, row in df.iterrows():\n",
    "        image_path = row['image_path']\n",
    "        info = ast.literal_eval(row['image_info'])\n",
    "        # get category name\n",
    "        cate_id = row['category_id']\n",
    "        categories = ann['categories']\n",
    "        label = get_image_label(cate_id, categories, catetype)\n",
    "\n",
    "        # Load and preprocess the image\n",
    "        image = Image.open(image_path)\n",
    "        # reshape image\n",
    "        image = image.resize((224, 224))\n",
    "        # Apply any necessary preprocessing (resize, normalize, etc.)\n",
    "        image = np.array(image)  # Convert to NumPy array if needed\n",
    "\n",
    "        image_data.append(image)\n",
    "        labels.append(label)\n",
    "\n",
    "    return np.array(image_data), np.array(image_info), np.array(labels)"
   ]
  },
  {
   "cell_type": "code",
   "execution_count": null,
   "metadata": {},
   "outputs": [],
   "source": []
  },
  {
   "cell_type": "code",
   "execution_count": 8,
   "metadata": {},
   "outputs": [],
   "source": [
    "train_data, train_info, train_labels = load_and_preprocess_images(train_df, 'train', 'genus')\n",
    "val_data, val_info, val_labels = load_and_preprocess_images(val_df, 'val', 'genus')\n",
    "test_data, test_info, test_labels = load_and_preprocess_images(test_df, 'test', 'genus')"
   ]
  },
  {
   "cell_type": "code",
   "execution_count": 9,
   "metadata": {},
   "outputs": [
    {
     "data": {
      "text/plain": [
       "(224, 224, 3)"
      ]
     },
     "execution_count": 9,
     "metadata": {},
     "output_type": "execute_result"
    }
   ],
   "source": [
    "np.shape(train_data[99])"
   ]
  },
  {
   "cell_type": "code",
   "execution_count": 10,
   "metadata": {},
   "outputs": [
    {
     "data": {
      "text/plain": [
       "10000"
      ]
     },
     "execution_count": 10,
     "metadata": {},
     "output_type": "execute_result"
    }
   ],
   "source": [
    "len(val_data)"
   ]
  },
  {
   "cell_type": "code",
   "execution_count": null,
   "metadata": {},
   "outputs": [],
   "source": []
  },
  {
   "cell_type": "markdown",
   "metadata": {},
   "source": [
    "## **Image Processing**"
   ]
  },
  {
   "cell_type": "markdown",
   "metadata": {},
   "source": [
    "### **Denoising using fft**"
   ]
  },
  {
   "cell_type": "code",
   "execution_count": 11,
   "metadata": {},
   "outputs": [],
   "source": [
    "# get number of classes in training set\n",
    "num_classes = len(np.unique(train_labels))\n",
    "\n",
    "# get size of image\n",
    "height, width, channels = 224, 224, 3"
   ]
  },
  {
   "cell_type": "code",
   "execution_count": 12,
   "metadata": {},
   "outputs": [
    {
     "data": {
      "text/plain": [
       "4836"
      ]
     },
     "execution_count": 12,
     "metadata": {},
     "output_type": "execute_result"
    }
   ],
   "source": [
    "num_classes"
   ]
  },
  {
   "cell_type": "code",
   "execution_count": null,
   "metadata": {},
   "outputs": [],
   "source": [
    "%pip install tensorflow"
   ]
  },
  {
   "cell_type": "code",
   "execution_count": 13,
   "metadata": {},
   "outputs": [],
   "source": [
    "import tensorflow as tf\n",
    "from tensorflow.keras import layers, models\n",
    "\n",
    "# Build a simple CNN model\n",
    "cnn_tf = models.Sequential([\n",
    "    layers.Conv2D(32, (3, 3), activation='relu', input_shape=(height, width, channels)),\n",
    "    layers.MaxPooling2D((2, 2)),\n",
    "    layers.Conv2D(64, (3, 3), activation='relu'),\n",
    "    layers.MaxPooling2D((2, 2)),\n",
    "    layers.Conv2D(64, (3, 3), activation='relu'),\n",
    "    layers.Flatten(),\n",
    "    layers.Dense(64, activation='relu'),\n",
    "    layers.Dense(num_classes, activation='softmax')\n",
    "])\n",
    "\n",
    "# Compile the model\n",
    "cnn_tf.compile(optimizer='adam',\n",
    "              loss='sparse_categorical_crossentropy',\n",
    "              metrics=['accuracy'])\n"
   ]
  },
  {
   "cell_type": "code",
   "execution_count": 15,
   "metadata": {},
   "outputs": [],
   "source": [
    "# some tf-specific processing\n",
    "train_data_tf = np.array(train_data)\n",
    "train_labels_tf = np.array(train_labels)\n",
    "\n",
    "val_data_tf = np.array(val_data)\n",
    "val_labels_tf = np.array(val_labels)\n",
    "\n",
    "test_data_tf = np.array(test_data)\n",
    "test_labels_tf = np.array(test_labels) "
   ]
  },
  {
   "cell_type": "code",
   "execution_count": 16,
   "metadata": {},
   "outputs": [
    {
     "name": "stdout",
     "output_type": "stream",
     "text": [
      "Epoch 1/10\n"
     ]
    },
    {
     "ename": "UnimplementedError",
     "evalue": "Graph execution error:\n\nDetected at node Cast_1 defined at (most recent call last):\n  File \"c:\\Users\\KurtJi\\miniconda3\\lib\\runpy.py\", line 197, in _run_module_as_main\n\n  File \"c:\\Users\\KurtJi\\miniconda3\\lib\\runpy.py\", line 87, in _run_code\n\n  File \"c:\\Users\\KurtJi\\miniconda3\\lib\\site-packages\\ipykernel_launcher.py\", line 17, in <module>\n\n  File \"c:\\Users\\KurtJi\\miniconda3\\lib\\site-packages\\traitlets\\config\\application.py\", line 1043, in launch_instance\n\n  File \"c:\\Users\\KurtJi\\miniconda3\\lib\\site-packages\\ipykernel\\kernelapp.py\", line 712, in start\n\n  File \"c:\\Users\\KurtJi\\miniconda3\\lib\\site-packages\\tornado\\platform\\asyncio.py\", line 215, in start\n\n  File \"c:\\Users\\KurtJi\\miniconda3\\lib\\asyncio\\base_events.py\", line 601, in run_forever\n\n  File \"c:\\Users\\KurtJi\\miniconda3\\lib\\asyncio\\base_events.py\", line 1905, in _run_once\n\n  File \"c:\\Users\\KurtJi\\miniconda3\\lib\\asyncio\\events.py\", line 80, in _run\n\n  File \"c:\\Users\\KurtJi\\miniconda3\\lib\\site-packages\\ipykernel\\kernelbase.py\", line 510, in dispatch_queue\n\n  File \"c:\\Users\\KurtJi\\miniconda3\\lib\\site-packages\\ipykernel\\kernelbase.py\", line 499, in process_one\n\n  File \"c:\\Users\\KurtJi\\miniconda3\\lib\\site-packages\\ipykernel\\kernelbase.py\", line 406, in dispatch_shell\n\n  File \"c:\\Users\\KurtJi\\miniconda3\\lib\\site-packages\\ipykernel\\kernelbase.py\", line 730, in execute_request\n\n  File \"c:\\Users\\KurtJi\\miniconda3\\lib\\site-packages\\ipykernel\\ipkernel.py\", line 383, in do_execute\n\n  File \"c:\\Users\\KurtJi\\miniconda3\\lib\\site-packages\\ipykernel\\zmqshell.py\", line 528, in run_cell\n\n  File \"c:\\Users\\KurtJi\\miniconda3\\lib\\site-packages\\IPython\\core\\interactiveshell.py\", line 3006, in run_cell\n\n  File \"c:\\Users\\KurtJi\\miniconda3\\lib\\site-packages\\IPython\\core\\interactiveshell.py\", line 3061, in _run_cell\n\n  File \"c:\\Users\\KurtJi\\miniconda3\\lib\\site-packages\\IPython\\core\\async_helpers.py\", line 129, in _pseudo_sync_runner\n\n  File \"c:\\Users\\KurtJi\\miniconda3\\lib\\site-packages\\IPython\\core\\interactiveshell.py\", line 3266, in run_cell_async\n\n  File \"c:\\Users\\KurtJi\\miniconda3\\lib\\site-packages\\IPython\\core\\interactiveshell.py\", line 3445, in run_ast_nodes\n\n  File \"c:\\Users\\KurtJi\\miniconda3\\lib\\site-packages\\IPython\\core\\interactiveshell.py\", line 3505, in run_code\n\n  File \"C:\\Users\\KurtJi\\AppData\\Local\\Temp\\ipykernel_15128\\1730120366.py\", line 2, in <module>\n\n  File \"c:\\Users\\KurtJi\\miniconda3\\lib\\site-packages\\keras\\src\\utils\\traceback_utils.py\", line 65, in error_handler\n\n  File \"c:\\Users\\KurtJi\\miniconda3\\lib\\site-packages\\keras\\src\\engine\\training.py\", line 1783, in fit\n\n  File \"c:\\Users\\KurtJi\\miniconda3\\lib\\site-packages\\keras\\src\\engine\\training.py\", line 1377, in train_function\n\n  File \"c:\\Users\\KurtJi\\miniconda3\\lib\\site-packages\\keras\\src\\engine\\training.py\", line 1360, in step_function\n\n  File \"c:\\Users\\KurtJi\\miniconda3\\lib\\site-packages\\keras\\src\\engine\\training.py\", line 1349, in run_step\n\n  File \"c:\\Users\\KurtJi\\miniconda3\\lib\\site-packages\\keras\\src\\engine\\training.py\", line 1131, in train_step\n\n  File \"c:\\Users\\KurtJi\\miniconda3\\lib\\site-packages\\keras\\src\\engine\\training.py\", line 1225, in compute_metrics\n\n  File \"c:\\Users\\KurtJi\\miniconda3\\lib\\site-packages\\keras\\src\\engine\\compile_utils.py\", line 620, in update_state\n\n  File \"c:\\Users\\KurtJi\\miniconda3\\lib\\site-packages\\keras\\src\\utils\\metrics_utils.py\", line 77, in decorated\n\n  File \"c:\\Users\\KurtJi\\miniconda3\\lib\\site-packages\\keras\\src\\metrics\\base_metric.py\", line 140, in update_state_fn\n\n  File \"c:\\Users\\KurtJi\\miniconda3\\lib\\site-packages\\keras\\src\\metrics\\base_metric.py\", line 708, in update_state\n\nCast string to float is not supported\n\t [[{{node Cast_1}}]] [Op:__inference_train_function_1463]",
     "output_type": "error",
     "traceback": [
      "\u001b[1;31m---------------------------------------------------------------------------\u001b[0m",
      "\u001b[1;31mUnimplementedError\u001b[0m                        Traceback (most recent call last)",
      "\u001b[1;32mc:\\Users\\KurtJi\\OneDrive - University of Illinois - Urbana\\Desktop\\Personal Projects\\Image\\Model_1.ipynb Cell 20\u001b[0m line \u001b[0;36m2\n\u001b[0;32m      <a href='vscode-notebook-cell:/c%3A/Users/KurtJi/OneDrive%20-%20University%20of%20Illinois%20-%20Urbana/Desktop/Personal%20Projects/Image/Model_1.ipynb#X14sZmlsZQ%3D%3D?line=0'>1</a>\u001b[0m \u001b[39m# Train the model\u001b[39;00m\n\u001b[1;32m----> <a href='vscode-notebook-cell:/c%3A/Users/KurtJi/OneDrive%20-%20University%20of%20Illinois%20-%20Urbana/Desktop/Personal%20Projects/Image/Model_1.ipynb#X14sZmlsZQ%3D%3D?line=1'>2</a>\u001b[0m cnn_tf\u001b[39m.\u001b[39;49mfit(train_data_tf, train_labels_tf, epochs\u001b[39m=\u001b[39;49m\u001b[39m10\u001b[39;49m, validation_data\u001b[39m=\u001b[39;49m(val_data_tf, val_labels_tf))\n",
      "File \u001b[1;32mc:\\Users\\KurtJi\\miniconda3\\lib\\site-packages\\keras\\src\\utils\\traceback_utils.py:70\u001b[0m, in \u001b[0;36mfilter_traceback.<locals>.error_handler\u001b[1;34m(*args, **kwargs)\u001b[0m\n\u001b[0;32m     67\u001b[0m     filtered_tb \u001b[39m=\u001b[39m _process_traceback_frames(e\u001b[39m.\u001b[39m__traceback__)\n\u001b[0;32m     68\u001b[0m     \u001b[39m# To get the full stack trace, call:\u001b[39;00m\n\u001b[0;32m     69\u001b[0m     \u001b[39m# `tf.debugging.disable_traceback_filtering()`\u001b[39;00m\n\u001b[1;32m---> 70\u001b[0m     \u001b[39mraise\u001b[39;00m e\u001b[39m.\u001b[39mwith_traceback(filtered_tb) \u001b[39mfrom\u001b[39;00m \u001b[39mNone\u001b[39m\n\u001b[0;32m     71\u001b[0m \u001b[39mfinally\u001b[39;00m:\n\u001b[0;32m     72\u001b[0m     \u001b[39mdel\u001b[39;00m filtered_tb\n",
      "File \u001b[1;32mc:\\Users\\KurtJi\\miniconda3\\lib\\site-packages\\tensorflow\\python\\eager\\execute.py:60\u001b[0m, in \u001b[0;36mquick_execute\u001b[1;34m(op_name, num_outputs, inputs, attrs, ctx, name)\u001b[0m\n\u001b[0;32m     53\u001b[0m   \u001b[39m# Convert any objects of type core_types.Tensor to Tensor.\u001b[39;00m\n\u001b[0;32m     54\u001b[0m   inputs \u001b[39m=\u001b[39m [\n\u001b[0;32m     55\u001b[0m       tensor_conversion_registry\u001b[39m.\u001b[39mconvert(t)\n\u001b[0;32m     56\u001b[0m       \u001b[39mif\u001b[39;00m \u001b[39misinstance\u001b[39m(t, core_types\u001b[39m.\u001b[39mTensor)\n\u001b[0;32m     57\u001b[0m       \u001b[39melse\u001b[39;00m t\n\u001b[0;32m     58\u001b[0m       \u001b[39mfor\u001b[39;00m t \u001b[39min\u001b[39;00m inputs\n\u001b[0;32m     59\u001b[0m   ]\n\u001b[1;32m---> 60\u001b[0m   tensors \u001b[39m=\u001b[39m pywrap_tfe\u001b[39m.\u001b[39mTFE_Py_Execute(ctx\u001b[39m.\u001b[39m_handle, device_name, op_name,\n\u001b[0;32m     61\u001b[0m                                       inputs, attrs, num_outputs)\n\u001b[0;32m     62\u001b[0m \u001b[39mexcept\u001b[39;00m core\u001b[39m.\u001b[39m_NotOkStatusException \u001b[39mas\u001b[39;00m e:\n\u001b[0;32m     63\u001b[0m   \u001b[39mif\u001b[39;00m name \u001b[39mis\u001b[39;00m \u001b[39mnot\u001b[39;00m \u001b[39mNone\u001b[39;00m:\n",
      "\u001b[1;31mUnimplementedError\u001b[0m: Graph execution error:\n\nDetected at node Cast_1 defined at (most recent call last):\n  File \"c:\\Users\\KurtJi\\miniconda3\\lib\\runpy.py\", line 197, in _run_module_as_main\n\n  File \"c:\\Users\\KurtJi\\miniconda3\\lib\\runpy.py\", line 87, in _run_code\n\n  File \"c:\\Users\\KurtJi\\miniconda3\\lib\\site-packages\\ipykernel_launcher.py\", line 17, in <module>\n\n  File \"c:\\Users\\KurtJi\\miniconda3\\lib\\site-packages\\traitlets\\config\\application.py\", line 1043, in launch_instance\n\n  File \"c:\\Users\\KurtJi\\miniconda3\\lib\\site-packages\\ipykernel\\kernelapp.py\", line 712, in start\n\n  File \"c:\\Users\\KurtJi\\miniconda3\\lib\\site-packages\\tornado\\platform\\asyncio.py\", line 215, in start\n\n  File \"c:\\Users\\KurtJi\\miniconda3\\lib\\asyncio\\base_events.py\", line 601, in run_forever\n\n  File \"c:\\Users\\KurtJi\\miniconda3\\lib\\asyncio\\base_events.py\", line 1905, in _run_once\n\n  File \"c:\\Users\\KurtJi\\miniconda3\\lib\\asyncio\\events.py\", line 80, in _run\n\n  File \"c:\\Users\\KurtJi\\miniconda3\\lib\\site-packages\\ipykernel\\kernelbase.py\", line 510, in dispatch_queue\n\n  File \"c:\\Users\\KurtJi\\miniconda3\\lib\\site-packages\\ipykernel\\kernelbase.py\", line 499, in process_one\n\n  File \"c:\\Users\\KurtJi\\miniconda3\\lib\\site-packages\\ipykernel\\kernelbase.py\", line 406, in dispatch_shell\n\n  File \"c:\\Users\\KurtJi\\miniconda3\\lib\\site-packages\\ipykernel\\kernelbase.py\", line 730, in execute_request\n\n  File \"c:\\Users\\KurtJi\\miniconda3\\lib\\site-packages\\ipykernel\\ipkernel.py\", line 383, in do_execute\n\n  File \"c:\\Users\\KurtJi\\miniconda3\\lib\\site-packages\\ipykernel\\zmqshell.py\", line 528, in run_cell\n\n  File \"c:\\Users\\KurtJi\\miniconda3\\lib\\site-packages\\IPython\\core\\interactiveshell.py\", line 3006, in run_cell\n\n  File \"c:\\Users\\KurtJi\\miniconda3\\lib\\site-packages\\IPython\\core\\interactiveshell.py\", line 3061, in _run_cell\n\n  File \"c:\\Users\\KurtJi\\miniconda3\\lib\\site-packages\\IPython\\core\\async_helpers.py\", line 129, in _pseudo_sync_runner\n\n  File \"c:\\Users\\KurtJi\\miniconda3\\lib\\site-packages\\IPython\\core\\interactiveshell.py\", line 3266, in run_cell_async\n\n  File \"c:\\Users\\KurtJi\\miniconda3\\lib\\site-packages\\IPython\\core\\interactiveshell.py\", line 3445, in run_ast_nodes\n\n  File \"c:\\Users\\KurtJi\\miniconda3\\lib\\site-packages\\IPython\\core\\interactiveshell.py\", line 3505, in run_code\n\n  File \"C:\\Users\\KurtJi\\AppData\\Local\\Temp\\ipykernel_15128\\1730120366.py\", line 2, in <module>\n\n  File \"c:\\Users\\KurtJi\\miniconda3\\lib\\site-packages\\keras\\src\\utils\\traceback_utils.py\", line 65, in error_handler\n\n  File \"c:\\Users\\KurtJi\\miniconda3\\lib\\site-packages\\keras\\src\\engine\\training.py\", line 1783, in fit\n\n  File \"c:\\Users\\KurtJi\\miniconda3\\lib\\site-packages\\keras\\src\\engine\\training.py\", line 1377, in train_function\n\n  File \"c:\\Users\\KurtJi\\miniconda3\\lib\\site-packages\\keras\\src\\engine\\training.py\", line 1360, in step_function\n\n  File \"c:\\Users\\KurtJi\\miniconda3\\lib\\site-packages\\keras\\src\\engine\\training.py\", line 1349, in run_step\n\n  File \"c:\\Users\\KurtJi\\miniconda3\\lib\\site-packages\\keras\\src\\engine\\training.py\", line 1131, in train_step\n\n  File \"c:\\Users\\KurtJi\\miniconda3\\lib\\site-packages\\keras\\src\\engine\\training.py\", line 1225, in compute_metrics\n\n  File \"c:\\Users\\KurtJi\\miniconda3\\lib\\site-packages\\keras\\src\\engine\\compile_utils.py\", line 620, in update_state\n\n  File \"c:\\Users\\KurtJi\\miniconda3\\lib\\site-packages\\keras\\src\\utils\\metrics_utils.py\", line 77, in decorated\n\n  File \"c:\\Users\\KurtJi\\miniconda3\\lib\\site-packages\\keras\\src\\metrics\\base_metric.py\", line 140, in update_state_fn\n\n  File \"c:\\Users\\KurtJi\\miniconda3\\lib\\site-packages\\keras\\src\\metrics\\base_metric.py\", line 708, in update_state\n\nCast string to float is not supported\n\t [[{{node Cast_1}}]] [Op:__inference_train_function_1463]"
     ]
    }
   ],
   "source": [
    "# Train the model\n",
    "cnn_tf.fit(train_data_tf, train_labels_tf, epochs=10, validation_data=(val_data_tf, val_labels_tf))"
   ]
  },
  {
   "cell_type": "code",
   "execution_count": null,
   "metadata": {},
   "outputs": [],
   "source": []
  },
  {
   "cell_type": "code",
   "execution_count": null,
   "metadata": {},
   "outputs": [],
   "source": [
    "# Evaluate the model\n",
    "accuracy = cnn_tf.evaluate(val_data_tf, val_labels_tf)\n",
    "print(f'Validation Accuracy: {accuracy[1]}')"
   ]
  },
  {
   "cell_type": "code",
   "execution_count": null,
   "metadata": {},
   "outputs": [],
   "source": []
  },
  {
   "cell_type": "code",
   "execution_count": null,
   "metadata": {},
   "outputs": [],
   "source": []
  },
  {
   "cell_type": "code",
   "execution_count": null,
   "metadata": {},
   "outputs": [],
   "source": []
  },
  {
   "cell_type": "code",
   "execution_count": null,
   "metadata": {},
   "outputs": [],
   "source": []
  }
 ],
 "metadata": {
  "kernelspec": {
   "display_name": "base",
   "language": "python",
   "name": "python3"
  },
  "language_info": {
   "codemirror_mode": {
    "name": "ipython",
    "version": 3
   },
   "file_extension": ".py",
   "mimetype": "text/x-python",
   "name": "python",
   "nbconvert_exporter": "python",
   "pygments_lexer": "ipython3",
   "version": "3.9.12"
  }
 },
 "nbformat": 4,
 "nbformat_minor": 2
}
