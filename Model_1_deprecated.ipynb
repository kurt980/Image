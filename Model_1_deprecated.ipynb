{
 "cells": [
  {
   "cell_type": "code",
   "execution_count": 1,
   "metadata": {},
   "outputs": [],
   "source": [
    "import PIL\n",
    "from PIL import Image\n",
    "import matplotlib\n",
    "\n",
    "import numpy as np\n",
    "import pandas as pd\n",
    "\n",
    "import ast\n",
    "import re\n",
    "\n",
    "import json"
   ]
  },
  {
   "cell_type": "markdown",
   "metadata": {},
   "source": [
    "### **Load Images**"
   ]
  },
  {
   "cell_type": "markdown",
   "metadata": {},
   "source": [
    "Currently I saved all the images and their information in a csv, which means I don't need to open lots of images when I run my code, but it also means I have to decode the strings in the csv to get my images and labels"
   ]
  },
  {
   "cell_type": "code",
   "execution_count": 2,
   "metadata": {},
   "outputs": [],
   "source": [
    "train_df = pd.read_csv(\"C:\\\\Users\\\\KurtJi\\\\OneDrive - University of Illinois - Urbana\\\\Desktop\\\\Personal Projects\\\\data\\\\inaturalist\\\\data_csv\\\\train_dataset.csv\")\n",
    "val_df = pd.read_csv(\"C:\\\\Users\\\\KurtJi\\\\OneDrive - University of Illinois - Urbana\\\\Desktop\\\\Personal Projects\\\\data\\\\inaturalist\\\\data_csv\\\\val_dataset.csv\")\n",
    "test_df = pd.read_csv(\"C:\\\\Users\\\\KurtJi\\\\OneDrive - University of Illinois - Urbana\\\\Desktop\\\\Personal Projects\\\\data\\\\inaturalist\\\\data_csv\\\\test_dataset.csv\")"
   ]
  },
  {
   "cell_type": "code",
   "execution_count": 3,
   "metadata": {},
   "outputs": [],
   "source": [
    "# get all unique category ids in the training data\n",
    "train_cateid = np.unique(list(train_df['category_id']))"
   ]
  },
  {
   "cell_type": "code",
   "execution_count": 4,
   "metadata": {},
   "outputs": [
    {
     "data": {
      "text/html": [
       "<div>\n",
       "<style scoped>\n",
       "    .dataframe tbody tr th:only-of-type {\n",
       "        vertical-align: middle;\n",
       "    }\n",
       "\n",
       "    .dataframe tbody tr th {\n",
       "        vertical-align: top;\n",
       "    }\n",
       "\n",
       "    .dataframe thead th {\n",
       "        text-align: right;\n",
       "    }\n",
       "</style>\n",
       "<table border=\"1\" class=\"dataframe\">\n",
       "  <thead>\n",
       "    <tr style=\"text-align: right;\">\n",
       "      <th></th>\n",
       "      <th>image_path</th>\n",
       "      <th>image_info</th>\n",
       "      <th>category_id</th>\n",
       "    </tr>\n",
       "  </thead>\n",
       "  <tbody>\n",
       "    <tr>\n",
       "      <th>0</th>\n",
       "      <td>C:\\Users\\KurtJi\\OneDrive - University of Illin...</td>\n",
       "      <td>['2018-04-21 22:01:00+00:00', [27.83488, -97.0...</td>\n",
       "      <td>3198</td>\n",
       "    </tr>\n",
       "    <tr>\n",
       "      <th>1</th>\n",
       "      <td>C:\\Users\\KurtJi\\OneDrive - University of Illin...</td>\n",
       "      <td>['2019-07-27 22:30:48+00:00', [31.90883, -109....</td>\n",
       "      <td>9217</td>\n",
       "    </tr>\n",
       "    <tr>\n",
       "      <th>2</th>\n",
       "      <td>C:\\Users\\KurtJi\\OneDrive - University of Illin...</td>\n",
       "      <td>['2018-05-13 14:39:46+00:00', [-34.6054, -58.3...</td>\n",
       "      <td>1978</td>\n",
       "    </tr>\n",
       "    <tr>\n",
       "      <th>3</th>\n",
       "      <td>C:\\Users\\KurtJi\\OneDrive - University of Illin...</td>\n",
       "      <td>['2019-09-23 18:00:59+00:00', [38.73597, -90.7...</td>\n",
       "      <td>5244</td>\n",
       "    </tr>\n",
       "    <tr>\n",
       "      <th>4</th>\n",
       "      <td>C:\\Users\\KurtJi\\OneDrive - University of Illin...</td>\n",
       "      <td>['2018-06-08 18:01:00+00:00', [16.73704, -92.6...</td>\n",
       "      <td>4214</td>\n",
       "    </tr>\n",
       "  </tbody>\n",
       "</table>\n",
       "</div>"
      ],
      "text/plain": [
       "                                          image_path  \\\n",
       "0  C:\\Users\\KurtJi\\OneDrive - University of Illin...   \n",
       "1  C:\\Users\\KurtJi\\OneDrive - University of Illin...   \n",
       "2  C:\\Users\\KurtJi\\OneDrive - University of Illin...   \n",
       "3  C:\\Users\\KurtJi\\OneDrive - University of Illin...   \n",
       "4  C:\\Users\\KurtJi\\OneDrive - University of Illin...   \n",
       "\n",
       "                                          image_info  category_id  \n",
       "0  ['2018-04-21 22:01:00+00:00', [27.83488, -97.0...         3198  \n",
       "1  ['2019-07-27 22:30:48+00:00', [31.90883, -109....         9217  \n",
       "2  ['2018-05-13 14:39:46+00:00', [-34.6054, -58.3...         1978  \n",
       "3  ['2019-09-23 18:00:59+00:00', [38.73597, -90.7...         5244  \n",
       "4  ['2018-06-08 18:01:00+00:00', [16.73704, -92.6...         4214  "
      ]
     },
     "execution_count": 4,
     "metadata": {},
     "output_type": "execute_result"
    }
   ],
   "source": [
    "train_df.head()"
   ]
  },
  {
   "cell_type": "code",
   "execution_count": 5,
   "metadata": {},
   "outputs": [],
   "source": [
    "def get_image_label(cateid: int, categories, type: str):\n",
    "    # categories should look like this: test_ann['categories']\n",
    "    # print(categories)\n",
    "    cate_list = list(categories[0][0].keys())[1:]\n",
    "    # print(cate_list)\n",
    "    if type not in cate_list:\n",
    "        return \"please enter correct category level\"\n",
    "\n",
    "    return categories[0][cateid][type]"
   ]
  },
  {
   "cell_type": "code",
   "execution_count": 6,
   "metadata": {},
   "outputs": [],
   "source": [
    "# Define a function to load and preprocess images\n",
    "def load_and_preprocess_images(df, type:str, catetype: str):\n",
    "    image_data = []\n",
    "    image_info = []\n",
    "    labels = []\n",
    "\n",
    "    if type not in ['train', 'val', 'test']:\n",
    "        print(\"please enter correct data name!\")\n",
    "        return\n",
    "\n",
    "    # Validating data\n",
    "    with open(f\"C:\\\\Users\\\\KurtJi\\\\OneDrive - University of Illinois - Urbana\\\\Desktop\\\\Personal Projects\\\\data\\\\inaturalist\\\\train_mini_sample.json\", 'r') as file:\n",
    "        # Load JSON data from the file\n",
    "        ann = json.load(file)\n",
    "\n",
    "    for index, row in df.iterrows():\n",
    "\n",
    "        image_path = row['image_path']\n",
    "        info = ast.literal_eval(row['image_info'])\n",
    "        # get category name\n",
    "        cate_id = row['category_id']\n",
    "\n",
    "        # do not read the classes not in training data\n",
    "        if type == 'val' or type == 'test':\n",
    "            if cate_id not in train_cateid:\n",
    "                # skip if category is not in training set\n",
    "                continue\n",
    "            \n",
    "        # get label\n",
    "        categories = ann['categories']\n",
    "        label = get_image_label(cate_id, categories, catetype)\n",
    "        # Load and preprocess the image\n",
    "        image = Image.open(image_path)\n",
    "        # reshape image\n",
    "        image = image.resize((256, 256))\n",
    "        # Apply any necessary preprocessing (resize, normalize, etc.)\n",
    "        image = np.array(image)  # Convert to NumPy array if needed\n",
    "\n",
    "        image_data.append(image)\n",
    "        labels.append(label)\n",
    "\n",
    "    return np.array(image_data), np.array(image_info), np.array(labels)"
   ]
  },
  {
   "cell_type": "code",
   "execution_count": null,
   "metadata": {},
   "outputs": [],
   "source": []
  },
  {
   "cell_type": "code",
   "execution_count": 7,
   "metadata": {},
   "outputs": [],
   "source": [
    "train_data, train_info, train_labels = load_and_preprocess_images(train_df, 'train', 'phylum')\n",
    "val_data, val_info, val_labels = load_and_preprocess_images(val_df, 'val', 'phylum')\n",
    "test_data, test_info, test_labels = load_and_preprocess_images(test_df, 'test', 'phylum')"
   ]
  },
  {
   "cell_type": "code",
   "execution_count": 8,
   "metadata": {},
   "outputs": [
    {
     "data": {
      "text/plain": [
       "(256, 256, 3)"
      ]
     },
     "execution_count": 8,
     "metadata": {},
     "output_type": "execute_result"
    }
   ],
   "source": [
    "np.shape(train_data[99])"
   ]
  },
  {
   "cell_type": "code",
   "execution_count": 9,
   "metadata": {},
   "outputs": [
    {
     "data": {
      "text/plain": [
       "39997"
      ]
     },
     "execution_count": 9,
     "metadata": {},
     "output_type": "execute_result"
    }
   ],
   "source": [
    "len(train_data)"
   ]
  },
  {
   "cell_type": "code",
   "execution_count": null,
   "metadata": {},
   "outputs": [],
   "source": []
  },
  {
   "cell_type": "markdown",
   "metadata": {},
   "source": [
    "## **Image Processing**"
   ]
  },
  {
   "cell_type": "markdown",
   "metadata": {},
   "source": [
    "### **Denoising using fft**"
   ]
  },
  {
   "cell_type": "code",
   "execution_count": null,
   "metadata": {},
   "outputs": [],
   "source": []
  },
  {
   "cell_type": "code",
   "execution_count": null,
   "metadata": {},
   "outputs": [],
   "source": []
  },
  {
   "cell_type": "markdown",
   "metadata": {},
   "source": [
    "## **Modeling**"
   ]
  },
  {
   "cell_type": "markdown",
   "metadata": {},
   "source": [
    "#### **Encode class labels**"
   ]
  },
  {
   "cell_type": "code",
   "execution_count": 10,
   "metadata": {},
   "outputs": [],
   "source": [
    "# get number of classes in training set\n",
    "num_classes = len(np.unique(train_labels))\n",
    "\n",
    "# get size of image\n",
    "height, width, channels = 256, 256, 3"
   ]
  },
  {
   "cell_type": "code",
   "execution_count": 11,
   "metadata": {},
   "outputs": [
    {
     "data": {
      "text/plain": [
       "LabelEncoder()"
      ]
     },
     "execution_count": 11,
     "metadata": {},
     "output_type": "execute_result"
    }
   ],
   "source": [
    "from sklearn import preprocessing\n",
    "\n",
    "le = preprocessing.LabelEncoder()\n",
    "le.fit(np.unique(train_labels))"
   ]
  },
  {
   "cell_type": "code",
   "execution_count": 12,
   "metadata": {},
   "outputs": [],
   "source": [
    "train_labels_int = le.transform(train_labels)\n",
    "val_labels_int = le.transform(val_labels)\n",
    "test_labels_int = le.transform(test_labels)"
   ]
  },
  {
   "cell_type": "code",
   "execution_count": 13,
   "metadata": {},
   "outputs": [
    {
     "data": {
      "text/plain": [
       "13"
      ]
     },
     "execution_count": 13,
     "metadata": {},
     "output_type": "execute_result"
    }
   ],
   "source": [
    "len(np.unique(train_labels_int))"
   ]
  },
  {
   "cell_type": "markdown",
   "metadata": {},
   "source": [
    "#### **Check device**"
   ]
  },
  {
   "cell_type": "code",
   "execution_count": 14,
   "metadata": {},
   "outputs": [
    {
     "name": "stdout",
     "output_type": "stream",
     "text": [
      "# conda environments:\n",
      "#\n",
      "                         C:\\Users\\KurtJi\\AppData\\Local\\R-MINI~1\n",
      "                         C:\\Users\\KurtJi\\AppData\\Local\\R-MINI~1\\envs\\r-reticulate\n",
      "                         C:\\Users\\KurtJi\\AppData\\Local\\r-miniconda\n",
      "                         C:\\Users\\KurtJi\\anaconda3\n",
      "                         C:\\Users\\KurtJi\\miniconda3\n",
      "base                  *  c:\\Users\\KurtJi\\anaconda3\n",
      "\n"
     ]
    }
   ],
   "source": [
    "!conda info --envs"
   ]
  },
  {
   "cell_type": "markdown",
   "metadata": {},
   "source": [
    "**CUDA+PyTorch Tutorial** https://blog.csdn.net/qq_45956730/article/details/126600028"
   ]
  },
  {
   "cell_type": "code",
   "execution_count": 15,
   "metadata": {},
   "outputs": [],
   "source": [
    "import torch\n",
    "# Set device (GPU if available, else CPU)\n",
    "device = torch.device(\"cuda\" if torch.cuda.is_available() else \"cpu\")"
   ]
  },
  {
   "cell_type": "code",
   "execution_count": 16,
   "metadata": {},
   "outputs": [
    {
     "data": {
      "text/plain": [
       "True"
      ]
     },
     "execution_count": 16,
     "metadata": {},
     "output_type": "execute_result"
    }
   ],
   "source": [
    "torch.cuda.is_available()"
   ]
  },
  {
   "cell_type": "code",
   "execution_count": 17,
   "metadata": {},
   "outputs": [
    {
     "data": {
      "text/plain": [
       "'NVIDIA GeForce RTX 3070 Laptop GPU'"
      ]
     },
     "execution_count": 17,
     "metadata": {},
     "output_type": "execute_result"
    }
   ],
   "source": [
    "device = torch.cuda.current_device()\n",
    "torch.cuda.get_device_name(device)"
   ]
  },
  {
   "cell_type": "markdown",
   "metadata": {},
   "source": [
    "#### **Construct Model**"
   ]
  },
  {
   "cell_type": "code",
   "execution_count": 39,
   "metadata": {},
   "outputs": [],
   "source": [
    "import torchvision.transforms as transforms\n",
    "from torch.utils.data import TensorDataset, DataLoader, Dataset"
   ]
  },
  {
   "cell_type": "code",
   "execution_count": null,
   "metadata": {},
   "outputs": [],
   "source": [
    "## Parameters for model\n",
    "\n",
    "# Hyper parameters\n",
    "num_epochs = 8\n",
    "num_classes = 2\n",
    "batch_size = 128\n",
    "learning_rate = 0.002"
   ]
  },
  {
   "cell_type": "code",
   "execution_count": null,
   "metadata": {},
   "outputs": [],
   "source": []
  },
  {
   "cell_type": "code",
   "execution_count": null,
   "metadata": {},
   "outputs": [],
   "source": [
    "trans_train = transforms.Compose([transforms.ToPILImage(),\n",
    "                                  transforms.Pad(64, padding_mode='reflect'),\n",
    "                                  transforms.RandomHorizontalFlip(), \n",
    "                                  transforms.RandomVerticalFlip(),\n",
    "                                  transforms.RandomRotation(20), \n",
    "                                  transforms.ToTensor(),\n",
    "                                  transforms.Normalize(mean=[0.5, 0.5, 0.5],std=[0.5, 0.5, 0.5])])\n",
    "\n",
    "trans_valid = transforms.Compose([transforms.ToPILImage(),\n",
    "                                  transforms.Pad(64, padding_mode='reflect'),\n",
    "                                  transforms.ToTensor(),\n",
    "                                  transforms.Normalize(mean=[0.5, 0.5, 0.5],std=[0.5, 0.5, 0.5])])\n",
    "\n",
    "dataset_train = MyDataset(df_data=train, data_dir=train_path, transform=trans_train)\n",
    "dataset_valid = MyDataset(df_data=val, data_dir=train_path, transform=trans_valid)\n",
    "\n",
    "loader_train = DataLoader(dataset = dataset_train, batch_size=batch_size, shuffle=True, num_workers=0)\n",
    "loader_valid = DataLoader(dataset = dataset_valid, batch_size=batch_size//2, shuffle=False, num_workers=0)"
   ]
  },
  {
   "cell_type": "code",
   "execution_count": null,
   "metadata": {},
   "outputs": [],
   "source": []
  },
  {
   "cell_type": "code",
   "execution_count": null,
   "metadata": {},
   "outputs": [],
   "source": []
  },
  {
   "cell_type": "code",
   "execution_count": null,
   "metadata": {},
   "outputs": [],
   "source": []
  },
  {
   "cell_type": "code",
   "execution_count": null,
   "metadata": {},
   "outputs": [],
   "source": []
  },
  {
   "cell_type": "code",
   "execution_count": null,
   "metadata": {},
   "outputs": [],
   "source": []
  },
  {
   "cell_type": "code",
   "execution_count": null,
   "metadata": {},
   "outputs": [],
   "source": []
  },
  {
   "cell_type": "code",
   "execution_count": null,
   "metadata": {},
   "outputs": [],
   "source": []
  },
  {
   "cell_type": "code",
   "execution_count": null,
   "metadata": {},
   "outputs": [],
   "source": []
  },
  {
   "cell_type": "code",
   "execution_count": null,
   "metadata": {},
   "outputs": [],
   "source": []
  },
  {
   "cell_type": "code",
   "execution_count": null,
   "metadata": {},
   "outputs": [],
   "source": []
  },
  {
   "cell_type": "code",
   "execution_count": null,
   "metadata": {},
   "outputs": [],
   "source": []
  },
  {
   "cell_type": "code",
   "execution_count": null,
   "metadata": {},
   "outputs": [],
   "source": []
  }
 ],
 "metadata": {
  "kernelspec": {
   "display_name": "base",
   "language": "python",
   "name": "python3"
  },
  "language_info": {
   "codemirror_mode": {
    "name": "ipython",
    "version": 3
   },
   "file_extension": ".py",
   "mimetype": "text/x-python",
   "name": "python",
   "nbconvert_exporter": "python",
   "pygments_lexer": "ipython3",
   "version": "3.9.13"
  }
 },
 "nbformat": 4,
 "nbformat_minor": 2
}
